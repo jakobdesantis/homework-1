{
 "cells": [
  {
   "cell_type": "markdown",
   "metadata": {},
   "source": [
    "# Twitter\n",
    "\n",
    "---\n",
    "\n",
    "Group name: D\n",
    "\n",
    "---\n"
   ]
  },
  {
   "cell_type": "markdown",
   "metadata": {},
   "source": []
  },
  {
   "cell_type": "code",
   "execution_count": 1,
   "metadata": {},
   "outputs": [],
   "source": [
    "import tweepy"
   ]
  },
  {
   "cell_type": "code",
   "execution_count": 6,
   "metadata": {},
   "outputs": [],
   "source": [
    "from keys import *"
   ]
  },
  {
   "cell_type": "code",
   "execution_count": 7,
   "metadata": {},
   "outputs": [],
   "source": [
    "import requests\n",
    "\n",
    "client = tweepy.Client( bearer_token=bearer_token, \n",
    "                        consumer_key=consumer_key, \n",
    "                        consumer_secret=consumer_secret, \n",
    "                        access_token=access_token, \n",
    "                        access_token_secret=access_token_secret, \n",
    "                        return_type = requests.Response,\n",
    "                        wait_on_rate_limit=True)"
   ]
  },
  {
   "cell_type": "code",
   "execution_count": 8,
   "metadata": {},
   "outputs": [],
   "source": [
    "my_query = 'from:CNN -is:retweet'"
   ]
  },
  {
   "cell_type": "code",
   "execution_count": 9,
   "metadata": {},
   "outputs": [],
   "source": [
    "tweets = client.search_recent_tweets(query=my_query, \n",
    "                                    tweet_fields=['author_id', 'created_at'],\n",
    "                                     max_results=100)"
   ]
  },
  {
   "cell_type": "code",
   "execution_count": 10,
   "metadata": {},
   "outputs": [],
   "source": [
    "import pandas as pd "
   ]
  },
  {
   "cell_type": "code",
   "execution_count": 11,
   "metadata": {},
   "outputs": [],
   "source": [
    "tweets_dict = tweets.json() "
   ]
  },
  {
   "cell_type": "code",
   "execution_count": 12,
   "metadata": {},
   "outputs": [],
   "source": [
    "tweets_data = tweets_dict['data']"
   ]
  },
  {
   "cell_type": "code",
   "execution_count": 13,
   "metadata": {},
   "outputs": [],
   "source": [
    "df = pd.json_normalize(tweets_data) "
   ]
  },
  {
   "cell_type": "code",
   "execution_count": 14,
   "metadata": {},
   "outputs": [
    {
     "data": {
      "text/html": "<div>\n<style scoped>\n    .dataframe tbody tr th:only-of-type {\n        vertical-align: middle;\n    }\n\n    .dataframe tbody tr th {\n        vertical-align: top;\n    }\n\n    .dataframe thead th {\n        text-align: right;\n    }\n</style>\n<table border=\"1\" class=\"dataframe\">\n  <thead>\n    <tr style=\"text-align: right;\">\n      <th></th>\n      <th>id</th>\n      <th>author_id</th>\n      <th>edit_history_tweet_ids</th>\n      <th>created_at</th>\n      <th>text</th>\n    </tr>\n  </thead>\n  <tbody>\n    <tr>\n      <th>0</th>\n      <td>1598595357692272641</td>\n      <td>759251</td>\n      <td>[1598595357692272641]</td>\n      <td>2022-12-02T08:30:08.000Z</td>\n      <td>Tesla made the first deliveries of its Semi tr...</td>\n    </tr>\n    <tr>\n      <th>1</th>\n      <td>1598587824646881280</td>\n      <td>759251</td>\n      <td>[1598587824646881280]</td>\n      <td>2022-12-02T08:00:12.000Z</td>\n      <td>\"His name was #MehranSamak\" \\n\\nIranian securi...</td>\n    </tr>\n    <tr>\n      <th>2</th>\n      <td>1598580260987195392</td>\n      <td>759251</td>\n      <td>[1598580260987195392]</td>\n      <td>2022-12-02T07:30:09.000Z</td>\n      <td>Pepsi has launched a campaign encouraging cust...</td>\n    </tr>\n    <tr>\n      <th>3</th>\n      <td>1598572688318074881</td>\n      <td>759251</td>\n      <td>[1598572688318074881]</td>\n      <td>2022-12-02T07:00:03.000Z</td>\n      <td>These rescued sea turtles are being rehabilita...</td>\n    </tr>\n    <tr>\n      <th>4</th>\n      <td>1598571436721033216</td>\n      <td>759251</td>\n      <td>[1598571436721033216]</td>\n      <td>2022-12-02T06:55:05.000Z</td>\n      <td>Desdemona is a robot pop star whose creator sa...</td>\n    </tr>\n    <tr>\n      <th>...</th>\n      <td>...</td>\n      <td>...</td>\n      <td>...</td>\n      <td>...</td>\n      <td>...</td>\n    </tr>\n    <tr>\n      <th>95</th>\n      <td>1598244299379990528</td>\n      <td>759251</td>\n      <td>[1598244299379990528]</td>\n      <td>2022-12-01T09:15:09.000Z</td>\n      <td>Survivors of the fatal mass shooting at Robb E...</td>\n    </tr>\n    <tr>\n      <th>96</th>\n      <td>1598240559860260864</td>\n      <td>759251</td>\n      <td>[1598240559860260864]</td>\n      <td>2022-12-01T09:00:18.000Z</td>\n      <td>Art collective MSCHF's latest project dares th...</td>\n    </tr>\n    <tr>\n      <th>97</th>\n      <td>1598236730007719936</td>\n      <td>759251</td>\n      <td>[1598236730007719936]</td>\n      <td>2022-12-01T08:45:04.000Z</td>\n      <td>Current students and an advocacy group are sui...</td>\n    </tr>\n    <tr>\n      <th>98</th>\n      <td>1598232977284145152</td>\n      <td>759251</td>\n      <td>[1598232977284145152]</td>\n      <td>2022-12-01T08:30:10.000Z</td>\n      <td>A nine-figure settlement between the estate of...</td>\n    </tr>\n    <tr>\n      <th>99</th>\n      <td>1598229189848895489</td>\n      <td>759251</td>\n      <td>[1598229189848895489]</td>\n      <td>2022-12-01T08:15:07.000Z</td>\n      <td>Drake gifted DJ Khaled four toilet bowls worth...</td>\n    </tr>\n  </tbody>\n</table>\n<p>100 rows × 5 columns</p>\n</div>",
      "text/plain": "                     id author_id edit_history_tweet_ids  \\\n0   1598595357692272641    759251  [1598595357692272641]   \n1   1598587824646881280    759251  [1598587824646881280]   \n2   1598580260987195392    759251  [1598580260987195392]   \n3   1598572688318074881    759251  [1598572688318074881]   \n4   1598571436721033216    759251  [1598571436721033216]   \n..                  ...       ...                    ...   \n95  1598244299379990528    759251  [1598244299379990528]   \n96  1598240559860260864    759251  [1598240559860260864]   \n97  1598236730007719936    759251  [1598236730007719936]   \n98  1598232977284145152    759251  [1598232977284145152]   \n99  1598229189848895489    759251  [1598229189848895489]   \n\n                  created_at  \\\n0   2022-12-02T08:30:08.000Z   \n1   2022-12-02T08:00:12.000Z   \n2   2022-12-02T07:30:09.000Z   \n3   2022-12-02T07:00:03.000Z   \n4   2022-12-02T06:55:05.000Z   \n..                       ...   \n95  2022-12-01T09:15:09.000Z   \n96  2022-12-01T09:00:18.000Z   \n97  2022-12-01T08:45:04.000Z   \n98  2022-12-01T08:30:10.000Z   \n99  2022-12-01T08:15:07.000Z   \n\n                                                 text  \n0   Tesla made the first deliveries of its Semi tr...  \n1   \"His name was #MehranSamak\" \\n\\nIranian securi...  \n2   Pepsi has launched a campaign encouraging cust...  \n3   These rescued sea turtles are being rehabilita...  \n4   Desdemona is a robot pop star whose creator sa...  \n..                                                ...  \n95  Survivors of the fatal mass shooting at Robb E...  \n96  Art collective MSCHF's latest project dares th...  \n97  Current students and an advocacy group are sui...  \n98  A nine-figure settlement between the estate of...  \n99  Drake gifted DJ Khaled four toilet bowls worth...  \n\n[100 rows x 5 columns]"
     },
     "execution_count": 14,
     "metadata": {},
     "output_type": "execute_result"
    }
   ],
   "source": [
    "df"
   ]
  },
  {
   "cell_type": "code",
   "execution_count": 15,
   "metadata": {},
   "outputs": [],
   "source": [
    "df.to_csv(\"tweets-obama.csv\")"
   ]
  }
 ],
 "metadata": {
  "kernelspec": {
   "display_name": "Python 3.9.13 64-bit ('twitter': conda)",
   "name": "python3913jvsc74a57bd07ee095c5e94ff9d5127a3d8fbbc0644f9a4426fd377eb9f7da1fe95205e39485"
  },
  "language_info": {
   "codemirror_mode": {
    "name": "ipython",
    "version": 3
   },
   "file_extension": ".py",
   "mimetype": "text/x-python",
   "name": "python",
   "nbconvert_exporter": "python",
   "pygments_lexer": "ipython3",
   "version": "3.9.13"
  },
  "orig_nbformat": 4,
  "vscode": {
   "interpreter": {
    "hash": "463226f144cc21b006ce6927bfc93dd00694e52c8bc6857abb6e555b983749e9"
   }
  }
 },
 "nbformat": 4,
 "nbformat_minor": 2
}