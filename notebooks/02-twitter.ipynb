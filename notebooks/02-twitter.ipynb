{
 "cells": [
  {
   "cell_type": "markdown",
   "metadata": {},
   "source": [
    "# Twitter\n",
    "\n",
    "---\n",
    "\n",
    "Group name: D\n",
    "\n",
    "---\n"
   ]
  },
  {
   "cell_type": "markdown",
   "metadata": {},
   "source": []
  },
  {
   "cell_type": "code",
   "execution_count": 2,
   "metadata": {},
   "outputs": [],
   "source": [
    "import tweepy"
   ]
  },
  {
   "cell_type": "code",
   "execution_count": 3,
   "metadata": {},
   "outputs": [],
   "source": [
    "from keys import *"
   ]
  },
  {
   "cell_type": "code",
   "execution_count": 4,
   "metadata": {},
   "outputs": [],
   "source": [
    "import requests\n",
    "\n",
    "client = tweepy.Client( bearer_token=bearer_token, \n",
    "                        consumer_key=consumer_key, \n",
    "                        consumer_secret=consumer_secret, \n",
    "                        access_token=access_token, \n",
    "                        access_token_secret=access_token_secret, \n",
    "                        return_type = requests.Response,\n",
    "                        wait_on_rate_limit=True)"
   ]
  },
  {
   "cell_type": "code",
   "execution_count": 5,
   "metadata": {},
   "outputs": [],
   "source": [
    "my_query = 'from:CNN -is:retweet'"
   ]
  },
  {
   "cell_type": "code",
   "execution_count": 6,
   "metadata": {},
   "outputs": [],
   "source": [
    "tweets = client.search_recent_tweets(query=my_query, \n",
    "                                    tweet_fields=['author_id', 'created_at'],\n",
    "                                     max_results=100)"
   ]
  },
  {
   "cell_type": "code",
   "execution_count": 7,
   "metadata": {},
   "outputs": [],
   "source": [
    "import pandas as pd "
   ]
  },
  {
   "cell_type": "code",
   "execution_count": 8,
   "metadata": {},
   "outputs": [],
   "source": [
    "tweets_dict = tweets.json() "
   ]
  },
  {
   "cell_type": "code",
   "execution_count": 9,
   "metadata": {},
   "outputs": [],
   "source": [
    "tweets_data = tweets_dict['data']"
   ]
  },
  {
   "cell_type": "code",
   "execution_count": 10,
   "metadata": {},
   "outputs": [],
   "source": [
    "df = pd.json_normalize(tweets_data) "
   ]
  },
  {
   "cell_type": "code",
   "execution_count": 11,
   "metadata": {},
   "outputs": [
    {
     "data": {
      "text/html": "<div>\n<style scoped>\n    .dataframe tbody tr th:only-of-type {\n        vertical-align: middle;\n    }\n\n    .dataframe tbody tr th {\n        vertical-align: top;\n    }\n\n    .dataframe thead th {\n        text-align: right;\n    }\n</style>\n<table border=\"1\" class=\"dataframe\">\n  <thead>\n    <tr style=\"text-align: right;\">\n      <th></th>\n      <th>edit_history_tweet_ids</th>\n      <th>created_at</th>\n      <th>text</th>\n      <th>author_id</th>\n      <th>id</th>\n    </tr>\n  </thead>\n  <tbody>\n    <tr>\n      <th>0</th>\n      <td>[1598715894162653184]</td>\n      <td>2022-12-02T16:29:06.000Z</td>\n      <td>A hospital patient has been arrested after she...</td>\n      <td>759251</td>\n      <td>1598715894162653184</td>\n    </tr>\n    <tr>\n      <th>1</th>\n      <td>[1598712611410952193]</td>\n      <td>2022-12-02T16:16:03.000Z</td>\n      <td>The study participants reported more severe sy...</td>\n      <td>759251</td>\n      <td>1598712611410952193</td>\n    </tr>\n    <tr>\n      <th>2</th>\n      <td>[1598712381588344833]</td>\n      <td>2022-12-02T16:15:09.000Z</td>\n      <td>Brad William Henke, a veteran character actor ...</td>\n      <td>759251</td>\n      <td>1598712381588344833</td>\n    </tr>\n    <tr>\n      <th>3</th>\n      <td>[1598711303530487809]</td>\n      <td>2022-12-02T16:10:52.000Z</td>\n      <td>CNN's @David_Culver reports near Mauna Loa as ...</td>\n      <td>759251</td>\n      <td>1598711303530487809</td>\n    </tr>\n    <tr>\n      <th>4</th>\n      <td>[1598708475814633473]</td>\n      <td>2022-12-02T15:59:37.000Z</td>\n      <td>Kanye West’s Twitter account was suspended ear...</td>\n      <td>759251</td>\n      <td>1598708475814633473</td>\n    </tr>\n    <tr>\n      <th>...</th>\n      <td>...</td>\n      <td>...</td>\n      <td>...</td>\n      <td>...</td>\n      <td>...</td>\n    </tr>\n    <tr>\n      <th>95</th>\n      <td>[1598293365329633281]</td>\n      <td>2022-12-01T12:30:07.000Z</td>\n      <td>“I’ve literally had tenants come up to me and ...</td>\n      <td>759251</td>\n      <td>1598293365329633281</td>\n    </tr>\n    <tr>\n      <th>96</th>\n      <td>[1598289599499059200]</td>\n      <td>2022-12-01T12:15:09.000Z</td>\n      <td>Here are 5️⃣ things to know for December 1. \\n...</td>\n      <td>759251</td>\n      <td>1598289599499059200</td>\n    </tr>\n    <tr>\n      <th>97</th>\n      <td>[1598285843482959873]</td>\n      <td>2022-12-01T12:00:14.000Z</td>\n      <td>A man seen punching an elderly Asian woman mor...</td>\n      <td>759251</td>\n      <td>1598285843482959873</td>\n    </tr>\n    <tr>\n      <th>98</th>\n      <td>[1598282014767153152]</td>\n      <td>2022-12-01T11:45:01.000Z</td>\n      <td>The buildup to the US v Iran World Cup game fo...</td>\n      <td>759251</td>\n      <td>1598282014767153152</td>\n    </tr>\n    <tr>\n      <th>99</th>\n      <td>[1598278319748915201]</td>\n      <td>2022-12-01T11:30:20.000Z</td>\n      <td>An Ohio man accused along with his family memb...</td>\n      <td>759251</td>\n      <td>1598278319748915201</td>\n    </tr>\n  </tbody>\n</table>\n<p>100 rows × 5 columns</p>\n</div>",
      "text/plain": "   edit_history_tweet_ids                created_at  \\\n0   [1598715894162653184]  2022-12-02T16:29:06.000Z   \n1   [1598712611410952193]  2022-12-02T16:16:03.000Z   \n2   [1598712381588344833]  2022-12-02T16:15:09.000Z   \n3   [1598711303530487809]  2022-12-02T16:10:52.000Z   \n4   [1598708475814633473]  2022-12-02T15:59:37.000Z   \n..                    ...                       ...   \n95  [1598293365329633281]  2022-12-01T12:30:07.000Z   \n96  [1598289599499059200]  2022-12-01T12:15:09.000Z   \n97  [1598285843482959873]  2022-12-01T12:00:14.000Z   \n98  [1598282014767153152]  2022-12-01T11:45:01.000Z   \n99  [1598278319748915201]  2022-12-01T11:30:20.000Z   \n\n                                                 text author_id  \\\n0   A hospital patient has been arrested after she...    759251   \n1   The study participants reported more severe sy...    759251   \n2   Brad William Henke, a veteran character actor ...    759251   \n3   CNN's @David_Culver reports near Mauna Loa as ...    759251   \n4   Kanye West’s Twitter account was suspended ear...    759251   \n..                                                ...       ...   \n95  “I’ve literally had tenants come up to me and ...    759251   \n96  Here are 5️⃣ things to know for December 1. \\n...    759251   \n97  A man seen punching an elderly Asian woman mor...    759251   \n98  The buildup to the US v Iran World Cup game fo...    759251   \n99  An Ohio man accused along with his family memb...    759251   \n\n                     id  \n0   1598715894162653184  \n1   1598712611410952193  \n2   1598712381588344833  \n3   1598711303530487809  \n4   1598708475814633473  \n..                  ...  \n95  1598293365329633281  \n96  1598289599499059200  \n97  1598285843482959873  \n98  1598282014767153152  \n99  1598278319748915201  \n\n[100 rows x 5 columns]"
     },
     "execution_count": 11,
     "metadata": {},
     "output_type": "execute_result"
    }
   ],
   "source": [
    "df"
   ]
  },
  {
   "cell_type": "code",
   "execution_count": 12,
   "metadata": {},
   "outputs": [],
   "source": [
    "df.to_csv(\"twitter.csv\")"
   ]
  }
 ],
 "metadata": {
  "kernelspec": {
   "display_name": "Python 3.9.13 64-bit ('twitter': conda)",
   "name": "python3913jvsc74a57bd07ee095c5e94ff9d5127a3d8fbbc0644f9a4426fd377eb9f7da1fe95205e39485"
  },
  "language_info": {
   "codemirror_mode": {
    "name": "ipython",
    "version": 3
   },
   "file_extension": ".py",
   "mimetype": "text/x-python",
   "name": "python",
   "nbconvert_exporter": "python",
   "pygments_lexer": "ipython3",
   "version": "3.9.13"
  },
  "orig_nbformat": 4,
  "vscode": {
   "interpreter": {
    "hash": "463226f144cc21b006ce6927bfc93dd00694e52c8bc6857abb6e555b983749e9"
   }
  }
 },
 "nbformat": 4,
 "nbformat_minor": 2
}