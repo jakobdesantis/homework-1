{
 "cells": [
  {
   "cell_type": "markdown",
   "metadata": {},
   "source": [
    "# Textmining\n",
    "\n",
    "---\n",
    "\n",
    "Group name: D\n",
    "\n",
    "---\n"
   ]
  },
  {
   "cell_type": "markdown",
   "metadata": {},
   "source": []
  },
  {
   "cell_type": "code",
   "execution_count": 1,
   "metadata": {},
   "outputs": [],
   "source": [
    "import pandas as pd "
   ]
  },
  {
   "cell_type": "code",
   "execution_count": 2,
   "metadata": {},
   "outputs": [],
   "source": [
    "import warnings\n",
    "warnings.simplefilter(action='ignore', category=FutureWarning)\n",
    "\n"
   ]
  },
  {
   "cell_type": "code",
   "execution_count": 3,
   "metadata": {},
   "outputs": [],
   "source": [
    "df=pd.read_csv(\"~/Documents/GitHub/homework-1/data/raw/webscraping.csv\")"
   ]
  },
  {
   "cell_type": "code",
   "execution_count": 4,
   "metadata": {},
   "outputs": [
    {
     "data": {
      "text/html": "<div>\n<style scoped>\n    .dataframe tbody tr th:only-of-type {\n        vertical-align: middle;\n    }\n\n    .dataframe tbody tr th {\n        vertical-align: top;\n    }\n\n    .dataframe thead th {\n        text-align: right;\n    }\n</style>\n<table border=\"1\" class=\"dataframe\">\n  <thead>\n    <tr style=\"text-align: right;\">\n      <th></th>\n      <th>Unnamed: 0</th>\n      <th>Text</th>\n    </tr>\n  </thead>\n  <tbody>\n    <tr>\n      <th>0</th>\n      <td>0</td>\n      <td>when roswell schaeffer sr. was 8 years old, hi...</td>\n    </tr>\n    <tr>\n      <th>1</th>\n      <td>1</td>\n      <td>now, nearly seven decades later, schaeffer is ...</td>\n    </tr>\n    <tr>\n      <th>2</th>\n      <td>2</td>\n      <td>in the 1980s, kotzebue sound’s beluga populati...</td>\n    </tr>\n    <tr>\n      <th>3</th>\n      <td>3</td>\n      <td>but some scientists think that understanding h...</td>\n    </tr>\n    <tr>\n      <th>4</th>\n      <td>4</td>\n      <td>cultural practices can become rote, however, a...</td>\n    </tr>\n  </tbody>\n</table>\n</div>",
      "text/plain": "   Unnamed: 0                                               Text\n0           0  when roswell schaeffer sr. was 8 years old, hi...\n1           1  now, nearly seven decades later, schaeffer is ...\n2           2  in the 1980s, kotzebue sound’s beluga populati...\n3           3  but some scientists think that understanding h...\n4           4  cultural practices can become rote, however, a..."
     },
     "execution_count": 4,
     "metadata": {},
     "output_type": "execute_result"
    }
   ],
   "source": [
    "df['Text'] = df['Text'].astype(str).str.lower()\n",
    "\n",
    "df.head()"
   ]
  },
  {
   "cell_type": "code",
   "execution_count": 8,
   "metadata": {},
   "outputs": [
    {
     "data": {
      "text/html": "<div>\n<style scoped>\n    .dataframe tbody tr th:only-of-type {\n        vertical-align: middle;\n    }\n\n    .dataframe tbody tr th {\n        vertical-align: top;\n    }\n\n    .dataframe thead th {\n        text-align: right;\n    }\n</style>\n<table border=\"1\" class=\"dataframe\">\n  <thead>\n    <tr style=\"text-align: right;\">\n      <th></th>\n      <th>Unnamed: 0</th>\n      <th>Text</th>\n      <th>Text_Token</th>\n    </tr>\n  </thead>\n  <tbody>\n    <tr>\n      <th>0</th>\n      <td>0</td>\n      <td>when roswell schaeffer sr. was 8 years old, hi...</td>\n      <td>[when, roswell, schaeffer, sr, was, 8, years, ...</td>\n    </tr>\n    <tr>\n      <th>1</th>\n      <td>1</td>\n      <td>now, nearly seven decades later, schaeffer is ...</td>\n      <td>[now, nearly, seven, decades, later, schaeffer...</td>\n    </tr>\n    <tr>\n      <th>2</th>\n      <td>2</td>\n      <td>in the 1980s, kotzebue sound’s beluga populati...</td>\n      <td>[in, the, 1980s, kotzebue, sound, s, beluga, p...</td>\n    </tr>\n    <tr>\n      <th>3</th>\n      <td>3</td>\n      <td>but some scientists think that understanding h...</td>\n      <td>[but, some, scientists, think, that, understan...</td>\n    </tr>\n    <tr>\n      <th>4</th>\n      <td>4</td>\n      <td>cultural practices can become rote, however, a...</td>\n      <td>[cultural, practices, can, become, rote, howev...</td>\n    </tr>\n  </tbody>\n</table>\n</div>",
      "text/plain": "   Unnamed: 0                                               Text  \\\n0           0  when roswell schaeffer sr. was 8 years old, hi...   \n1           1  now, nearly seven decades later, schaeffer is ...   \n2           2  in the 1980s, kotzebue sound’s beluga populati...   \n3           3  but some scientists think that understanding h...   \n4           4  cultural practices can become rote, however, a...   \n\n                                          Text_Token  \n0  [when, roswell, schaeffer, sr, was, 8, years, ...  \n1  [now, nearly, seven, decades, later, schaeffer...  \n2  [in, the, 1980s, kotzebue, sound, s, beluga, p...  \n3  [but, some, scientists, think, that, understan...  \n4  [cultural, practices, can, become, rote, howev...  "
     },
     "execution_count": 8,
     "metadata": {},
     "output_type": "execute_result"
    }
   ],
   "source": [
    "from nltk.tokenize import RegexpTokenizer\n",
    "\n",
    "regexp = RegexpTokenizer('\\w+')\n",
    "\n",
    "df['Text_Token']=df['Text'].apply(regexp.tokenize)\n",
    "\n",
    "df.head()"
   ]
  },
  {
   "cell_type": "code",
   "execution_count": 9,
   "metadata": {},
   "outputs": [
    {
     "name": "stderr",
     "output_type": "stream",
     "text": [
      "[nltk_data] Downloading package stopwords to\n",
      "[nltk_data]     /Users/jakob.desantis/nltk_data...\n",
      "[nltk_data]   Package stopwords is already up-to-date!\n"
     ]
    },
    {
     "data": {
      "text/plain": "True"
     },
     "execution_count": 9,
     "metadata": {},
     "output_type": "execute_result"
    }
   ],
   "source": [
    "import nltk\n",
    "\n",
    "nltk.download('stopwords')"
   ]
  },
  {
   "cell_type": "code",
   "execution_count": 10,
   "metadata": {},
   "outputs": [],
   "source": [
    "from nltk.corpus import stopwords"
   ]
  },
  {
   "cell_type": "code",
   "execution_count": 11,
   "metadata": {},
   "outputs": [
    {
     "data": {
      "text/plain": "['when', 'but']"
     },
     "execution_count": 11,
     "metadata": {},
     "output_type": "execute_result"
    }
   ],
   "source": [
    "my_stopwords = ['when', 'but']\n",
    "\n",
    "my_stopwords"
   ]
  }
 ],
 "metadata": {
  "kernelspec": {
   "display_name": "Python 3.9.12 ('base')",
   "language": "python",
   "name": "python3"
  },
  "language_info": {
   "codemirror_mode": {
    "name": "ipython",
    "version": 3
   },
   "file_extension": ".py",
   "mimetype": "text/x-python",
   "name": "python",
   "nbconvert_exporter": "python",
   "pygments_lexer": "ipython3",
   "version": "3.9.12"
  },
  "orig_nbformat": 4,
  "vscode": {
   "interpreter": {
    "hash": "463226f144cc21b006ce6927bfc93dd00694e52c8bc6857abb6e555b983749e9"
   }
  }
 },
 "nbformat": 4,
 "nbformat_minor": 2
}